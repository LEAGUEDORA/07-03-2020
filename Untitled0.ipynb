{
  "cells": [
    {
      "cell_type": "markdown",
      "metadata": {
        "id": "view-in-github",
        "colab_type": "text"
      },
      "source": [
        "<a href=\"https://colab.research.google.com/github/LEAGUEDORA/07-03-2020/blob/master/Untitled0.ipynb\" target=\"_parent\"><img src=\"https://colab.research.google.com/assets/colab-badge.svg\" alt=\"Open In Colab\"/></a>"
      ]
    },
    {
      "cell_type": "code",
      "execution_count": 5,
      "metadata": {
        "id": "hSnsqgZPF2qc"
      },
      "outputs": [],
      "source": [
        "\n",
        "import json\n",
        "  \n",
        "  \n",
        "# the file to be converted\n",
        "filename = 'Mc_Graw_Hill_Dictionary_of_Engineering_S (1)_1-131 (1).txt'\n",
        "  \n",
        "# resultant dictionary\n",
        "list1 = []\n",
        "  \n",
        "# fields in the sample file \n",
        "fields =['Word','domain','defination']\n",
        "  \n",
        "with open(filename) as fh:     \n",
        "    # count variable for employee id creation\n",
        "    l = 1\n",
        "    temp = []\n",
        "    for line in fh: \n",
        "        # reading line by line from the text file\n",
        "        description = line.strip()\n",
        "        # for output see below\n",
        "        if len(description) == 0:\n",
        "          if len(temp) > 0:\n",
        "            import re\n",
        "            # print(temp)\n",
        "            re_match = re.match(r\"([A-Za-z0-9\\s]+) (\\[.*\\]) ([A-Za-z0-9', \\-\\n+=\\(\\)!@#$%^&*/\\d.]*)\", \"\".join(temp))\n",
        "            if re_match is not None:\n",
        "              dict_ = {\n",
        "                  \"word\" : re_match.group(1),\n",
        "                  \"domain\" : re_match.group(2),\n",
        "                  \"meanings\" : re_match.group(3)\n",
        "              }\n",
        "              list1.append(dict_)\n",
        "            temp = []\n",
        "        else:\n",
        "          temp.append(description) \n",
        "          # for automatic creation of id for each employee\n",
        "          sno ='emp'+str(l)\n",
        "with open(\"output2.json\", 'w') as f:\n",
        "  json.dump(list1, f)\n",
        "# creating json file        \n",
        "# out_file = open(\"test2.json\", \"w\")\n",
        "# json.dump(dict1, out_file, indent = 4)\n",
        "# out_file.close()"
      ]
    },
    {
      "cell_type": "code",
      "source": [
        ""
      ],
      "metadata": {
        "id": "6BSQB6dFh1rX"
      },
      "execution_count": null,
      "outputs": []
    },
    {
      "cell_type": "code",
      "source": [
        "a = ['aaxis [MECH ENG] The angle that specifies the', 'rotation of a machine tool about the x axis', \"{ 'a 'ak,sis }\"]\n",
        "str_a = \"\".join(a)\n",
        "import re\n",
        "print(re.match(r\"([A-Za-z0-9]+) (\\[.*\\]) ([A-Za-z0-9', -+=\\(\\)!@#$%^&*/]{1,})\", str_a).group(3))"
      ],
      "metadata": {
        "colab": {
          "base_uri": "https://localhost:8080/"
        },
        "id": "dUQA-u4TcklU",
        "outputId": "19e2583a-6a39-461a-dd5b-43f2eeb76d54"
      },
      "execution_count": null,
      "outputs": [
        {
          "output_type": "stream",
          "name": "stdout",
          "text": [
            "The angle that specifies therotation of a machine tool about the x axis\n"
          ]
        }
      ]
    },
    {
      "cell_type": "code",
      "source": [
        "b = \"1. Hi this is anka 2. Hi I am priya\"\n",
        "print(re.split(r\"(\\d. )\", b))\n",
        "  # print(meaninbg)"
      ],
      "metadata": {
        "colab": {
          "base_uri": "https://localhost:8080/"
        },
        "id": "bkau5ZYNecLj",
        "outputId": "b9c906ce-4a9f-46e6-cf6c-294b3d77dac7"
      },
      "execution_count": null,
      "outputs": [
        {
          "output_type": "stream",
          "name": "stdout",
          "text": [
            "['', '1. ', 'Hi this is anka ', '2. ', 'Hi I am priya']\n"
          ]
        }
      ]
    },
    {
      "cell_type": "code",
      "source": [
        "\"a = [\"abate [ENG] 1.To remove material, for example,', 'in carving stone. 2. In metalwork, to excise or', 'beat down the surface in order to create a pattern', 'or figure in low relief. {a'bat }\"]\n",
        "a = \"\".join(a)\n",
        "print(a)\n",
        "print(re.findall(r\"([A-Za-z0-9]+) (\\[.*\\]) ([A-Za-z0-9', -+=\\(\\)!@#$%^&*/]{1,})\", a))"
      ],
      "metadata": {
        "colab": {
          "base_uri": "https://localhost:8080/"
        },
        "id": "RdWewVORi8ku",
        "outputId": "f1470715-5588-4e5b-c955-19c77824b192"
      },
      "execution_count": null,
      "outputs": [
        {
          "output_type": "stream",
          "name": "stdout",
          "text": [
            "abate [ENG] 1.To remove material, for example,', 'in carving stone. 2. In metalwork, to excise or', 'beat down the surface in order to create a pattern', 'or figure in low relief. {a'bat }\n",
            "[('abate', '[ENG]', '1')]\n"
          ]
        }
      ]
    },
    {
      "cell_type": "code",
      "source": [
        ""
      ],
      "metadata": {
        "id": "yA9MdbH4jM-G"
      },
      "execution_count": null,
      "outputs": []
    }
  ],
  "metadata": {
    "colab": {
      "collapsed_sections": [],
      "name": "Untitled0.ipynb",
      "provenance": [],
      "include_colab_link": true
    },
    "kernelspec": {
      "display_name": "Python 3",
      "name": "python3"
    },
    "language_info": {
      "name": "python"
    }
  },
  "nbformat": 4,
  "nbformat_minor": 0
}
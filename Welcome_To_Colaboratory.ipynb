{
  "nbformat": 4,
  "nbformat_minor": 0,
  "metadata": {
    "colab": {
      "name": "Welcome To Colaboratory",
      "provenance": [],
      "collapsed_sections": [],
      "include_colab_link": true
    },
    "kernelspec": {
      "display_name": "Python 3",
      "name": "python3"
    }
  },
  "cells": [
    {
      "cell_type": "markdown",
      "metadata": {
        "id": "view-in-github",
        "colab_type": "text"
      },
      "source": [
        "<a href=\"https://colab.research.google.com/github/Sandeepdora/07-03-2020/blob/master/Welcome_To_Colaboratory.ipynb\" target=\"_parent\"><img src=\"https://colab.research.google.com/assets/colab-badge.svg\" alt=\"Open In Colab\"/></a>"
      ]
    },
    {
      "cell_type": "code",
      "metadata": {
        "id": "J5pQ8oA2pNo8",
        "colab_type": "code",
        "colab": {}
      },
      "source": [
        "import pandas as pd\n",
        "import matplotlib.pyplot as ppp\n",
        "from sklearn.model_selection import train_test_split as tts\n",
        "from sklearn.linear_model import LinearRegression as lr"
      ],
      "execution_count": 0,
      "outputs": []
    },
    {
      "cell_type": "code",
      "metadata": {
        "id": "vIdaP_rypnCZ",
        "colab_type": "code",
        "colab": {
          "base_uri": "https://localhost:8080/",
          "height": 406
        },
        "outputId": "c5b8eb88-a570-401f-c185-5f9419f2c184"
      },
      "source": [
        "gg=pp.read_csv(\"iris (5).data\")\n",
        "gg"
      ],
      "execution_count": 99,
      "outputs": [
        {
          "output_type": "execute_result",
          "data": {
            "text/html": [
              "<div>\n",
              "<style scoped>\n",
              "    .dataframe tbody tr th:only-of-type {\n",
              "        vertical-align: middle;\n",
              "    }\n",
              "\n",
              "    .dataframe tbody tr th {\n",
              "        vertical-align: top;\n",
              "    }\n",
              "\n",
              "    .dataframe thead th {\n",
              "        text-align: right;\n",
              "    }\n",
              "</style>\n",
              "<table border=\"1\" class=\"dataframe\">\n",
              "  <thead>\n",
              "    <tr style=\"text-align: right;\">\n",
              "      <th></th>\n",
              "      <th>sepallength</th>\n",
              "      <th>sepalwidth</th>\n",
              "      <th>petallength</th>\n",
              "      <th>petalwidth</th>\n",
              "      <th>spec</th>\n",
              "    </tr>\n",
              "  </thead>\n",
              "  <tbody>\n",
              "    <tr>\n",
              "      <th>0</th>\n",
              "      <td>5.1</td>\n",
              "      <td>3.5</td>\n",
              "      <td>1.4</td>\n",
              "      <td>0.2</td>\n",
              "      <td>Iris-setosa</td>\n",
              "    </tr>\n",
              "    <tr>\n",
              "      <th>1</th>\n",
              "      <td>4.9</td>\n",
              "      <td>3.0</td>\n",
              "      <td>1.4</td>\n",
              "      <td>0.2</td>\n",
              "      <td>Iris-setosa</td>\n",
              "    </tr>\n",
              "    <tr>\n",
              "      <th>2</th>\n",
              "      <td>4.7</td>\n",
              "      <td>3.2</td>\n",
              "      <td>1.3</td>\n",
              "      <td>0.2</td>\n",
              "      <td>Iris-setosa</td>\n",
              "    </tr>\n",
              "    <tr>\n",
              "      <th>3</th>\n",
              "      <td>4.6</td>\n",
              "      <td>3.1</td>\n",
              "      <td>1.5</td>\n",
              "      <td>0.2</td>\n",
              "      <td>Iris-setosa</td>\n",
              "    </tr>\n",
              "    <tr>\n",
              "      <th>4</th>\n",
              "      <td>5.0</td>\n",
              "      <td>3.6</td>\n",
              "      <td>1.4</td>\n",
              "      <td>0.2</td>\n",
              "      <td>Iris-setosa</td>\n",
              "    </tr>\n",
              "    <tr>\n",
              "      <th>...</th>\n",
              "      <td>...</td>\n",
              "      <td>...</td>\n",
              "      <td>...</td>\n",
              "      <td>...</td>\n",
              "      <td>...</td>\n",
              "    </tr>\n",
              "    <tr>\n",
              "      <th>145</th>\n",
              "      <td>6.7</td>\n",
              "      <td>3.0</td>\n",
              "      <td>5.2</td>\n",
              "      <td>2.3</td>\n",
              "      <td>Iris-virginica</td>\n",
              "    </tr>\n",
              "    <tr>\n",
              "      <th>146</th>\n",
              "      <td>6.3</td>\n",
              "      <td>2.5</td>\n",
              "      <td>5.0</td>\n",
              "      <td>1.9</td>\n",
              "      <td>Iris-virginica</td>\n",
              "    </tr>\n",
              "    <tr>\n",
              "      <th>147</th>\n",
              "      <td>6.5</td>\n",
              "      <td>3.0</td>\n",
              "      <td>5.2</td>\n",
              "      <td>2.0</td>\n",
              "      <td>Iris-virginica</td>\n",
              "    </tr>\n",
              "    <tr>\n",
              "      <th>148</th>\n",
              "      <td>6.2</td>\n",
              "      <td>3.4</td>\n",
              "      <td>5.4</td>\n",
              "      <td>2.3</td>\n",
              "      <td>Iris-virginica</td>\n",
              "    </tr>\n",
              "    <tr>\n",
              "      <th>149</th>\n",
              "      <td>5.9</td>\n",
              "      <td>3.0</td>\n",
              "      <td>5.1</td>\n",
              "      <td>1.8</td>\n",
              "      <td>Iris-virginica</td>\n",
              "    </tr>\n",
              "  </tbody>\n",
              "</table>\n",
              "<p>150 rows × 5 columns</p>\n",
              "</div>"
            ],
            "text/plain": [
              "     sepallength  sepalwidth  petallength  petalwidth            spec\n",
              "0            5.1         3.5          1.4         0.2     Iris-setosa\n",
              "1            4.9         3.0          1.4         0.2     Iris-setosa\n",
              "2            4.7         3.2          1.3         0.2     Iris-setosa\n",
              "3            4.6         3.1          1.5         0.2     Iris-setosa\n",
              "4            5.0         3.6          1.4         0.2     Iris-setosa\n",
              "..           ...         ...          ...         ...             ...\n",
              "145          6.7         3.0          5.2         2.3  Iris-virginica\n",
              "146          6.3         2.5          5.0         1.9  Iris-virginica\n",
              "147          6.5         3.0          5.2         2.0  Iris-virginica\n",
              "148          6.2         3.4          5.4         2.3  Iris-virginica\n",
              "149          5.9         3.0          5.1         1.8  Iris-virginica\n",
              "\n",
              "[150 rows x 5 columns]"
            ]
          },
          "metadata": {
            "tags": []
          },
          "execution_count": 99
        }
      ]
    },
    {
      "cell_type": "code",
      "metadata": {
        "id": "lOZ2su5zpsz3",
        "colab_type": "code",
        "colab": {
          "base_uri": "https://localhost:8080/",
          "height": 496
        },
        "outputId": "bd56af79-fe94-46fa-846a-625c36402b55"
      },
      "source": [
        "# assgning data \n",
        "x=gg[[\"petallength\",\"petalwidth\"]]\n",
        "y=gg[[\"sepallength\"]]\n",
        "x,y"
      ],
      "execution_count": 101,
      "outputs": [
        {
          "output_type": "execute_result",
          "data": {
            "text/plain": [
              "(     petallength  petalwidth\n",
              " 0            1.4         0.2\n",
              " 1            1.4         0.2\n",
              " 2            1.3         0.2\n",
              " 3            1.5         0.2\n",
              " 4            1.4         0.2\n",
              " ..           ...         ...\n",
              " 145          5.2         2.3\n",
              " 146          5.0         1.9\n",
              " 147          5.2         2.0\n",
              " 148          5.4         2.3\n",
              " 149          5.1         1.8\n",
              " \n",
              " [150 rows x 2 columns],      sepallength\n",
              " 0            5.1\n",
              " 1            4.9\n",
              " 2            4.7\n",
              " 3            4.6\n",
              " 4            5.0\n",
              " ..           ...\n",
              " 145          6.7\n",
              " 146          6.3\n",
              " 147          6.5\n",
              " 148          6.2\n",
              " 149          5.9\n",
              " \n",
              " [150 rows x 1 columns])"
            ]
          },
          "metadata": {
            "tags": []
          },
          "execution_count": 101
        }
      ]
    },
    {
      "cell_type": "code",
      "metadata": {
        "id": "ZQdJY9EOqElH",
        "colab_type": "code",
        "colab": {
          "base_uri": "https://localhost:8080/",
          "height": 1000
        },
        "outputId": "927ef51c-331e-4ece-91fc-50e6dce2db05"
      },
      "source": [
        "# assinging traing and testing data\n",
        "x_train,x_test,y_train,y_test=tts(x,y,test_size=1/3,random_state=1)\n",
        "x_train,x_test,y_train,y_test"
      ],
      "execution_count": 103,
      "outputs": [
        {
          "output_type": "execute_result",
          "data": {
            "text/plain": [
              "(     petallength  petalwidth\n",
              " 39           1.5         0.2\n",
              " 36           1.3         0.2\n",
              " 117          6.7         2.2\n",
              " 139          5.4         2.1\n",
              " 107          6.3         1.8\n",
              " ..           ...         ...\n",
              " 133          5.1         1.5\n",
              " 137          5.5         1.8\n",
              " 72           4.9         1.5\n",
              " 140          5.6         2.4\n",
              " 37           1.5         0.1\n",
              " \n",
              " [100 rows x 2 columns],      petallength  petalwidth\n",
              " 14           1.2         0.2\n",
              " 98           3.0         1.1\n",
              " 75           4.4         1.4\n",
              " 16           1.3         0.4\n",
              " 131          6.4         2.0\n",
              " 56           4.7         1.6\n",
              " 141          5.1         2.3\n",
              " 44           1.9         0.4\n",
              " 29           1.6         0.2\n",
              " 120          5.7         2.3\n",
              " 94           4.2         1.3\n",
              " 5            1.7         0.4\n",
              " 102          5.9         2.1\n",
              " 51           4.5         1.5\n",
              " 78           4.5         1.5\n",
              " 42           1.3         0.2\n",
              " 92           4.0         1.2\n",
              " 66           4.5         1.5\n",
              " 31           1.5         0.4\n",
              " 35           1.2         0.2\n",
              " 90           4.4         1.2\n",
              " 84           4.5         1.5\n",
              " 77           5.0         1.7\n",
              " 40           1.3         0.3\n",
              " 125          6.0         1.8\n",
              " 99           4.1         1.3\n",
              " 33           1.4         0.2\n",
              " 19           1.5         0.3\n",
              " 73           4.7         1.2\n",
              " 146          5.0         1.9\n",
              " 91           4.6         1.4\n",
              " 135          6.1         2.3\n",
              " 69           3.9         1.1\n",
              " 128          5.6         2.1\n",
              " 114          5.1         2.4\n",
              " 48           1.5         0.2\n",
              " 53           4.0         1.3\n",
              " 28           1.4         0.2\n",
              " 54           4.6         1.5\n",
              " 108          5.8         1.8\n",
              " 112          5.5         2.1\n",
              " 17           1.4         0.3\n",
              " 119          5.0         1.5\n",
              " 103          5.6         1.8\n",
              " 58           4.6         1.3\n",
              " 118          6.9         2.3\n",
              " 18           1.7         0.3\n",
              " 4            1.4         0.2\n",
              " 45           1.4         0.3\n",
              " 59           3.9         1.4,      sepallength\n",
              " 39           5.1\n",
              " 36           5.5\n",
              " 117          7.7\n",
              " 139          6.9\n",
              " 107          7.3\n",
              " ..           ...\n",
              " 133          6.3\n",
              " 137          6.4\n",
              " 72           6.3\n",
              " 140          6.7\n",
              " 37           4.9\n",
              " \n",
              " [100 rows x 1 columns],      sepallength\n",
              " 14           5.8\n",
              " 98           5.1\n",
              " 75           6.6\n",
              " 16           5.4\n",
              " 131          7.9\n",
              " 56           6.3\n",
              " 141          6.9\n",
              " 44           5.1\n",
              " 29           4.7\n",
              " 120          6.9\n",
              " 94           5.6\n",
              " 5            5.4\n",
              " 102          7.1\n",
              " 51           6.4\n",
              " 78           6.0\n",
              " 42           4.4\n",
              " 92           5.8\n",
              " 66           5.6\n",
              " 31           5.4\n",
              " 35           5.0\n",
              " 90           5.5\n",
              " 84           5.4\n",
              " 77           6.7\n",
              " 40           5.0\n",
              " 125          7.2\n",
              " 99           5.7\n",
              " 33           5.5\n",
              " 19           5.1\n",
              " 73           6.1\n",
              " 146          6.3\n",
              " 91           6.1\n",
              " 135          7.7\n",
              " 69           5.6\n",
              " 128          6.4\n",
              " 114          5.8\n",
              " 48           5.3\n",
              " 53           5.5\n",
              " 28           5.2\n",
              " 54           6.5\n",
              " 108          6.7\n",
              " 112          6.8\n",
              " 17           5.1\n",
              " 119          6.0\n",
              " 103          6.3\n",
              " 58           6.6\n",
              " 118          7.7\n",
              " 18           5.7\n",
              " 4            5.0\n",
              " 45           4.8\n",
              " 59           5.2)"
            ]
          },
          "metadata": {
            "tags": []
          },
          "execution_count": 103
        }
      ]
    },
    {
      "cell_type": "code",
      "metadata": {
        "id": "H1zOmFO7qvcp",
        "colab_type": "code",
        "colab": {
          "base_uri": "https://localhost:8080/",
          "height": 34
        },
        "outputId": "08f16175-2164-4782-8347-aaae4b1a150f"
      },
      "source": [
        "rgr=lr()\n",
        "rgr.fit(x_train,y_train)"
      ],
      "execution_count": 104,
      "outputs": [
        {
          "output_type": "execute_result",
          "data": {
            "text/plain": [
              "LinearRegression(copy_X=True, fit_intercept=True, n_jobs=None, normalize=False)"
            ]
          },
          "metadata": {
            "tags": []
          },
          "execution_count": 104
        }
      ]
    },
    {
      "cell_type": "code",
      "metadata": {
        "id": "5AVbhzBWq5GK",
        "colab_type": "code",
        "colab": {
          "base_uri": "https://localhost:8080/",
          "height": 905
        },
        "outputId": "84afb046-051f-4155-d3e7-61b0db8cdea2"
      },
      "source": [
        "# prediction for test data\n",
        "y_pred=rgr.predict(x_test)\n",
        "y_pred "
      ],
      "execution_count": 105,
      "outputs": [
        {
          "output_type": "execute_result",
          "data": {
            "text/plain": [
              "array([[4.68522729],\n",
              "       [5.38219618],\n",
              "       [6.10055835],\n",
              "       [4.65784457],\n",
              "       [7.05124349],\n",
              "       [6.19468543],\n",
              "       [6.12922333],\n",
              "       [5.02237397],\n",
              "       [4.9282469 ],\n",
              "       [6.49375273],\n",
              "       [6.02311737],\n",
              "       [4.90086417],\n",
              "       [6.70340017],\n",
              "       [6.11724444],\n",
              "       [6.11724444],\n",
              "       [4.7459822 ],\n",
              "       [5.94567638],\n",
              "       [6.11724444],\n",
              "       [4.77935437],\n",
              "       [4.68522729],\n",
              "       [6.18869598],\n",
              "       [6.11724444],\n",
              "       [6.33288132],\n",
              "       [4.70191338],\n",
              "       [6.89636151],\n",
              "       [5.96236246],\n",
              "       [4.8067371 ],\n",
              "       [4.82342318],\n",
              "       [6.37096069],\n",
              "       [6.24474369],\n",
              "       [6.22206816],\n",
              "       [6.73677234],\n",
              "       [5.92899029],\n",
              "       [6.52113546],\n",
              "       [6.08515451],\n",
              "       [4.867492  ],\n",
              "       [5.90160756],\n",
              "       [4.8067371 ],\n",
              "       [6.17799934],\n",
              "       [6.77485171],\n",
              "       [6.46038056],\n",
              "       [4.76266828],\n",
              "       [6.42101895],\n",
              "       [6.65334191],\n",
              "       [6.26613697],\n",
              "       [7.22281155],\n",
              "       [4.94493298],\n",
              "       [4.8067371 ],\n",
              "       [4.76266828],\n",
              "       [5.79678385]])"
            ]
          },
          "metadata": {
            "tags": []
          },
          "execution_count": 105
        }
      ]
    },
    {
      "cell_type": "code",
      "metadata": {
        "id": "3pL18Yo5rFNp",
        "colab_type": "code",
        "colab": {
          "base_uri": "https://localhost:8080/",
          "height": 70
        },
        "outputId": "019d048c-1bdd-4969-9bb4-1ecc270a5af1"
      },
      "source": [
        "a=float(input(\"petal_length\")) # input for petal_length\n",
        "b=float(input(\"Petal_width\"))  # input for petal_width\n",
        "rgr.predict([[a,b]])"
      ],
      "execution_count": 108,
      "outputs": [
        {
          "output_type": "stream",
          "text": [
            "petal_length1.3\n",
            "Petal_width0.2\n"
          ],
          "name": "stdout"
        },
        {
          "output_type": "execute_result",
          "data": {
            "text/plain": [
              "array([[4.7459822]])"
            ]
          },
          "metadata": {
            "tags": []
          },
          "execution_count": 108
        }
      ]
    },
    {
      "cell_type": "code",
      "metadata": {
        "id": "fk97kqyCrjy7",
        "colab_type": "code",
        "colab": {
          "base_uri": "https://localhost:8080/",
          "height": 443
        },
        "outputId": "bd265c17-c0d7-4d18-9381-f0ab208f034d"
      },
      "source": [
        "# Data Reading for 2nd Question\n",
        "g2=pp.read_csv('02.csv')\n",
        "g2"
      ],
      "execution_count": 123,
      "outputs": [
        {
          "output_type": "execute_result",
          "data": {
            "text/html": [
              "<div>\n",
              "<style scoped>\n",
              "    .dataframe tbody tr th:only-of-type {\n",
              "        vertical-align: middle;\n",
              "    }\n",
              "\n",
              "    .dataframe tbody tr th {\n",
              "        vertical-align: top;\n",
              "    }\n",
              "\n",
              "    .dataframe thead th {\n",
              "        text-align: right;\n",
              "    }\n",
              "</style>\n",
              "<table border=\"1\" class=\"dataframe\">\n",
              "  <thead>\n",
              "    <tr style=\"text-align: right;\">\n",
              "      <th></th>\n",
              "      <th>Roll No</th>\n",
              "      <th>Gender</th>\n",
              "      <th>Section</th>\n",
              "      <th>SSC Percentage</th>\n",
              "      <th>inter_Diploma_percentage</th>\n",
              "      <th>B.Tech_percentage</th>\n",
              "      <th>Backlogs</th>\n",
              "      <th>registered_for_ Placement_Training</th>\n",
              "      <th>placement status</th>\n",
              "    </tr>\n",
              "  </thead>\n",
              "  <tbody>\n",
              "    <tr>\n",
              "      <th>0</th>\n",
              "      <td>1</td>\n",
              "      <td>M</td>\n",
              "      <td>A</td>\n",
              "      <td>87.3</td>\n",
              "      <td>65.30</td>\n",
              "      <td>40.00</td>\n",
              "      <td>18</td>\n",
              "      <td>NO</td>\n",
              "      <td>Not placed</td>\n",
              "    </tr>\n",
              "    <tr>\n",
              "      <th>1</th>\n",
              "      <td>2</td>\n",
              "      <td>F</td>\n",
              "      <td>A</td>\n",
              "      <td>89.0</td>\n",
              "      <td>92.40</td>\n",
              "      <td>71.45</td>\n",
              "      <td>0</td>\n",
              "      <td>yes</td>\n",
              "      <td>Placed</td>\n",
              "    </tr>\n",
              "    <tr>\n",
              "      <th>2</th>\n",
              "      <td>3</td>\n",
              "      <td>F</td>\n",
              "      <td>A</td>\n",
              "      <td>67.0</td>\n",
              "      <td>68.00</td>\n",
              "      <td>45.26</td>\n",
              "      <td>13</td>\n",
              "      <td>yes</td>\n",
              "      <td>Not placed</td>\n",
              "    </tr>\n",
              "    <tr>\n",
              "      <th>3</th>\n",
              "      <td>4</td>\n",
              "      <td>M</td>\n",
              "      <td>A</td>\n",
              "      <td>71.0</td>\n",
              "      <td>70.40</td>\n",
              "      <td>36.47</td>\n",
              "      <td>17</td>\n",
              "      <td>yes</td>\n",
              "      <td>Not placed</td>\n",
              "    </tr>\n",
              "    <tr>\n",
              "      <th>4</th>\n",
              "      <td>5</td>\n",
              "      <td>M</td>\n",
              "      <td>A</td>\n",
              "      <td>67.0</td>\n",
              "      <td>65.50</td>\n",
              "      <td>42.52</td>\n",
              "      <td>17</td>\n",
              "      <td>yes</td>\n",
              "      <td>Not placed</td>\n",
              "    </tr>\n",
              "    <tr>\n",
              "      <th>...</th>\n",
              "      <td>...</td>\n",
              "      <td>...</td>\n",
              "      <td>...</td>\n",
              "      <td>...</td>\n",
              "      <td>...</td>\n",
              "      <td>...</td>\n",
              "      <td>...</td>\n",
              "      <td>...</td>\n",
              "      <td>...</td>\n",
              "    </tr>\n",
              "    <tr>\n",
              "      <th>112</th>\n",
              "      <td>113</td>\n",
              "      <td>M</td>\n",
              "      <td>B</td>\n",
              "      <td>81.1</td>\n",
              "      <td>78.60</td>\n",
              "      <td>35.84</td>\n",
              "      <td>16</td>\n",
              "      <td>NO</td>\n",
              "      <td>Not placed</td>\n",
              "    </tr>\n",
              "    <tr>\n",
              "      <th>113</th>\n",
              "      <td>114</td>\n",
              "      <td>M</td>\n",
              "      <td>B</td>\n",
              "      <td>81.3</td>\n",
              "      <td>85.12</td>\n",
              "      <td>68.50</td>\n",
              "      <td>0</td>\n",
              "      <td>NO</td>\n",
              "      <td>Not placed</td>\n",
              "    </tr>\n",
              "    <tr>\n",
              "      <th>114</th>\n",
              "      <td>115</td>\n",
              "      <td>M</td>\n",
              "      <td>B</td>\n",
              "      <td>83.5</td>\n",
              "      <td>89.90</td>\n",
              "      <td>76.30</td>\n",
              "      <td>0</td>\n",
              "      <td>NO</td>\n",
              "      <td>Not placed</td>\n",
              "    </tr>\n",
              "    <tr>\n",
              "      <th>115</th>\n",
              "      <td>116</td>\n",
              "      <td>M</td>\n",
              "      <td>B</td>\n",
              "      <td>85.5</td>\n",
              "      <td>90.63</td>\n",
              "      <td>74.50</td>\n",
              "      <td>0</td>\n",
              "      <td>NO</td>\n",
              "      <td>Not placed</td>\n",
              "    </tr>\n",
              "    <tr>\n",
              "      <th>116</th>\n",
              "      <td>117</td>\n",
              "      <td>M</td>\n",
              "      <td>B</td>\n",
              "      <td>80.0</td>\n",
              "      <td>83.33</td>\n",
              "      <td>65.53</td>\n",
              "      <td>0</td>\n",
              "      <td>NO</td>\n",
              "      <td>Not placed</td>\n",
              "    </tr>\n",
              "  </tbody>\n",
              "</table>\n",
              "<p>117 rows × 9 columns</p>\n",
              "</div>"
            ],
            "text/plain": [
              "     Roll No Gender  ... registered_for_ Placement_Training  placement status\n",
              "0          1      M  ...                                 NO        Not placed\n",
              "1          2      F  ...                                yes            Placed\n",
              "2          3      F  ...                                yes        Not placed\n",
              "3          4      M  ...                                yes        Not placed\n",
              "4          5      M  ...                                yes        Not placed\n",
              "..       ...    ...  ...                                ...               ...\n",
              "112      113      M  ...                                 NO        Not placed\n",
              "113      114      M  ...                                 NO        Not placed\n",
              "114      115      M  ...                                 NO        Not placed\n",
              "115      116      M  ...                                 NO        Not placed\n",
              "116      117      M  ...                                 NO        Not placed\n",
              "\n",
              "[117 rows x 9 columns]"
            ]
          },
          "metadata": {
            "tags": []
          },
          "execution_count": 123
        }
      ]
    },
    {
      "cell_type": "code",
      "metadata": {
        "id": "R0Su47YgsJKo",
        "colab_type": "code",
        "colab": {}
      },
      "source": [
        "# For dividing beetween Sectrion A and B\n",
        "bp=g2.loc[g2[\"Section\"]==\"A\"]\n",
        "bp2=g2.loc[g2[\"Section\"]==\"B\"]"
      ],
      "execution_count": 0,
      "outputs": []
    },
    {
      "cell_type": "code",
      "metadata": {
        "id": "N1qFqlT7yFYx",
        "colab_type": "code",
        "colab": {}
      },
      "source": [
        "# Individual boxplots"
      ],
      "execution_count": 0,
      "outputs": []
    },
    {
      "cell_type": "code",
      "metadata": {
        "id": "uGEx91-Ksm3r",
        "colab_type": "code",
        "colab": {
          "base_uri": "https://localhost:8080/",
          "height": 267
        },
        "outputId": "c605bca8-4b5c-4e59-86a6-99e21bf2f8fd"
      },
      "source": [
        "box2=bp2.boxplot(column=[\"B.Tech_percentage\"])"
      ],
      "execution_count": 134,
      "outputs": [
        {
          "output_type": "display_data",
          "data": {
            "image/png": "[encoded data removed]",
            "text/plain": [
              "<Figure size 432x288 with 1 Axes>"
            ]
          },
          "metadata": {
            "tags": []
          }
        }
      ]
    },
    {
      "cell_type": "code",
      "metadata": {
        "id": "7-qTd1-3tc1d",
        "colab_type": "code",
        "colab": {
          "base_uri": "https://localhost:8080/",
          "height": 265
        },
        "outputId": "308d3d5f-6fda-4aab-8515-c589506494ab"
      },
      "source": [
        "box1=bp.boxplot(column=[\"B.Tech_percentage\"])"
      ],
      "execution_count": 135,
      "outputs": [
        {
          "output_type": "display_data",
          "data": {
            "image/png": "[encoded data removed]",
            "text/plain": [
              "<Figure size 432x288 with 1 Axes>"
            ]
          },
          "metadata": {
            "tags": []
          }
        }
      ]
    },
    {
      "cell_type": "code",
      "metadata": {
        "id": "1DLiv0SSwYhh",
        "colab_type": "code",
        "colab": {
          "base_uri": "https://localhost:8080/",
          "height": 542
        },
        "outputId": "4f27871e-278a-42ba-e215-bfae5c140866"
      },
      "source": [
        "# To compare two boxplots in one graph I called plotly.graph_objects\n",
        "import plotly.graph_objects as go\n",
        "fig = go.Figure()\n",
        "fig.add_trace(go.Box(y=bp))\n",
        "fig.add_trace(go.Box(y=bp2))\n",
        "fig.show()"
      ],
      "execution_count": 140,
      "outputs": [
        {
          "output_type": "display_data",
          "data": {
            "text/html": [
              "<html>\n",
              "<head><meta charset=\"utf-8\" /></head>\n",
              "<body>\n",
              "    <div>\n",
              "            <script src=\"https://cdnjs.cloudflare.com/ajax/libs/mathjax/2.7.5/MathJax.js?config=TeX-AMS-MML_SVG\"></script><script type=\"text/javascript\">if (window.MathJax) {MathJax.Hub.Config({SVG: {font: \"STIX-Web\"}});}</script>\n",
              "                <script type=\"text/javascript\">window.PlotlyConfig = {MathJaxConfig: 'local'};</script>\n",
              "        <script src=\"https://cdn.plot.ly/plotly-latest.min.js\"></script>    \n",
              "            <div id=\"b6acf130-e754-4e18-b6f0-b069fadecf75\" class=\"plotly-graph-div\" style=\"height:525px; width:100%;\"></div>\n",
              "            <script type=\"text/javascript\">\n",
              "                \n",
              "                    window.PLOTLYENV=window.PLOTLYENV || {};\n",
              "                    \n",
              "                if (document.getElementById(\"b6acf130-e754-4e18-b6f0-b069fadecf75\")) {\n",
              "                    Plotly.newPlot(\n",
              "                        'b6acf130-e754-4e18-b6f0-b069fadecf75',\n",
              "                        [{\"type\": \"box\", \"y\": [[1, \"M\", \"A\", 87.3, 65.3, 40.0, 18, \"NO\", \"Not placed\"], [2, \"F\", \"A\", 89.0, 92.4, 71.45, 0, \"yes\", \"Placed\"], [3, \"F\", \"A\", 67.0, 68.0, 45.26, 13, \"yes\", \"Not placed\"], [4, \"M\", \"A\", 71.0, 70.4, 36.47, 17, \"yes\", \"Not placed\"], [5, \"M\", \"A\", 67.0, 65.5, 42.52, 17, \"yes\", \"Not placed\"], [6, \"M\", \"A\", 81.26, 68.0, 62.2, 6, \"yes\", \"Not placed\"], [7, \"M\", \"A\", 71.0, 56.5, 33.77, 20, \"yes\", \"Not placed\"], [8, \"F\", \"A\", 84.83, 79.3, 61.02, 3, \"NO\", \"Not placed\"], [9, \"M\", \"A\", 85.0, 89.6, 53.0, 10, \"yes\", \"Not placed\"], [10, \"M\", \"A\", 79.9, 75.5, 51.0, 8, \"yes\", \"Not placed\"], [11, \"F\", \"A\", 82.33, 76.3, 71.49, 0, \"NO\", \"Placed\"], [12, \"M\", \"A\", 91.0, 66.0, 49.67, 16, \"yes\", \"Not placed\"], [13, \"M\", \"A\", 81.33, 60.3, 54.74, 10, \"yes\", \"Not placed\"], [14, \"F\", \"A\", 87.1, 88.7, 74.96, 0, \"yes\", \"Placed\"], [15, \"M\", \"A\", 63.1, 52.2, 50.55, 7, \"yes\", \"Not placed\"], [16, \"F\", \"A\", 85.83, 86.0, 75.96, 0, \"yes\", \"Placed\"], [17, \"F\", \"A\", 87.0, 85.0, 70.01, 0, \"yes\", \"Not placed\"], [18, \"F\", \"A\", 93.66, 95.1, 85.39, 0, \"yes\", \"Placed\"], [19, \"F\", \"A\", 80.66, 86.3, 71.65, 0, \"yes\", \"Placed\"], [20, \"M\", \"A\", 87.83, 93.6, 74.34, 0, \"yes\", \"Placed\"], [21, \"M\", \"A\", 83.83, 90.3, 76.9, 0, \"yes\", \"Placed\"], [22, \"M\", \"A\", 77.5, 83.9, 73.01, 0, \"yes\", \"Not placed\"], [23, \"F\", \"A\", 80.3, 83.0, 68.3, 0, \"yes\", \"Not placed\"], [24, \"M\", \"A\", 90.5, 90.4, 70.3, 0, \"NO\", \"Not placed\"], [25, \"M\", \"A\", 86.16, 87.2, 54.18, 9, \"yes\", \"Not placed\"], [26, \"M\", \"A\", 74.5, 78.3, 55.82, 9, \"yes\", \"Not placed\"], [27, \"M\", \"A\", 87.1, 81.0, 61.0, 0, \"yes\", \"Not placed\"], [28, \"M\", \"A\", 55.66, 65.3, 38.0, 25, \"yes\", \"Not placed\"], [29, \"F\", \"A\", 64.3, 67.1, 64.36, 1, \"yes\", \"Not placed\"], [30, \"M\", \"A\", 72.0, 88.1, 69.6, 0, \"yes\", \"Placed\"], [31, \"F\", \"A\", 87.33, 96.5, 74.25, 0, \"yes\", \"Placed\"], [32, \"M\", \"A\", 72.17, 77.7, 58.0, 5, \"yes\", \"Not placed\"], [33, \"F\", \"A\", 79.0, 88.9, 71.94, 0, \"yes\", \"Placed\"], [34, \"M\", \"A\", 76.0, 80.1, 42.0, 19, \"yes\", \"Not placed\"], [35, \"F\", \"A\", 86.6, 78.4, 65.7, 1, \"yes\", \"Not placed\"], [36, \"M\", \"A\", 87.33, 90.0, 68.7, 0, \"yes\", \"Placed\"], [37, \"M\", \"A\", 82.0, 91.4, 75.42, 0, \"yes\", \"Placed\"], [38, \"F\", \"A\", 91.0, 94.3, 72.68, 0, \"yes\", \"Placed\"], [39, \"M\", \"A\", 74.0, 76.8, 51.0, 14, \"yes\", \"Not placed\"], [40, \"M\", \"A\", 83.5, 88.8, 67.5, 0, \"yes\", \"Not placed\"], [41, \"M\", \"A\", 88.16, 91.4, 72.74, 0, \"yes\", \"Placed\"], [42, \"F\", \"A\", 75.33, 61.2, 58.67, 4, \"yes\", \"Not placed\"], [43, \"M\", \"A\", 81.1, 67.5, 45.45, 14, \"yes\", \"Not placed\"], [44, \"M\", \"A\", 86.0, 92.5, 70.85, 0, \"yes\", \"Not placed\"], [45, \"F\", \"A\", 82.3, 83.7, 69.48, 0, \"yes\", \"Not placed\"], [46, \"F\", \"A\", 87.5, 84.4, 72.57, 0, \"yes\", \"Placed\"], [47, \"F\", \"A\", 83.5, 76.9, 59.53, 3, \"yes\", \"Placed\"], [48, \"M\", \"A\", 77.16, 89.1, 67.06, 0, \"yes\", \"Not placed\"], [49, \"M\", \"A\", 66.16, 77.2, 52.09, 8, \"yes\", \"Not placed\"], [50, \"F\", \"A\", 85.33, 93.8, 77.5, 1, \"yes\", \"Placed\"], [51, \"F\", \"A\", 87.42, 92.2, 78.0, 0, \"yes\", \"Placed\"], [52, \"M\", \"A\", 79.0, 79.0, 55.49, 7, \"yes\", \"Not placed\"], [53, \"M\", \"A\", 82.9, 73.4, 52.0, 9, \"yes\", \"Not placed\"], [54, \"M\", \"A\", 72.0, 84.5, 67.21, 0, \"yes\", \"Placed\"], [55, \"M\", \"A\", 85.5, 83.6, 60.35, 3, \"yes\", \"Not placed\"], [56, \"F\", \"A\", 87.33, 92.0, 70.85, 0, \"NO\", \"Placed\"], [57, \"M\", \"A\", 64.0, 56.7, 31.2, 22, \"NO\", \"Not placed\"], [58, \"M\", \"A\", 72.5, 67.8, 52.31, 5, \"yes\", \"Not placed\"], [59, \"F\", \"A\", 90.3, 93.7, 77.95, 0, \"yes\", \"Placed\"], [60, \"F\", \"A\", 90.66, 94.7, 81.1, 0, \"yes\", \"Placed\"]]}, {\"type\": \"box\", \"y\": [[61, \"F\", \"B\", 81.83, 85.6, 60.72, 6, \"NO\", \"Not placed\"], [62, \"F\", \"B\", 85.33, 91.2, 74.3, 0, \"NO\", \"Placed\"], [63, \"M\", \"B\", 77.33, 76.5, 52.0, 7, \"NO\", \"Not placed\"], [64, \"M\", \"B\", 79.6, 69.2, 49.68, 20, \"yes\", \"Not placed\"], [65, \"F\", \"B\", 86.0, 94.2, 78.6, 0, \"NO\", \"Placed\"], [66, \"F\", \"B\", 90.0, 91.6, 72.4, 0, \"yes\", \"Placed\"], [67, \"F\", \"B\", 83.66, 90.4, 72.47, 0, \"yes\", \"Placed\"], [68, \"F\", \"B\", 86.66, 89.9, 75.13, 0, \"yes\", \"Placed\"], [69, \"M\", \"B\", 85.0, 61.0, 52.56, 6, \"NO\", \"Not placed\"], [70, \"M\", \"B\", 47.8, 52.4, 44.73, 22, \"NO\", \"Not placed\"], [71, \"F\", \"B\", 90.33, 95.6, 80.47, 0, \"yes\", \"Placed\"], [72, \"M\", \"B\", 79.0, 93.0, 59.0, 2, \"yes\", \"Not placed\"], [73, \"F\", \"B\", 81.83, 83.7, 68.9, 0, \"yes\", \"Not placed\"], [74, \"M\", \"B\", 88.16, 80.1, 63.41, 1, \"NO\", \"Placed\"], [75, \"F\", \"B\", 75.5, 81.7, 73.13, 0, \"yes\", \"Not placed\"], [76, \"M\", \"B\", 78.6, 87.8, 56.88, 10, \"yes\", \"Not placed\"], [77, \"M\", \"B\", 78.0, 59.0, 51.06, 17, \"NO\", \"Not placed\"], [78, \"F\", \"B\", 74.16, 91.7, 73.09, 1, \"NO\", \"Not placed\"], [79, \"F\", \"B\", 89.0, 86.0, 65.6, 0, \"NO\", \"Not placed\"], [80, \"M\", \"B\", 70.0, 81.0, 57.75, 3, \"NO\", \"Not placed\"], [81, \"M\", \"B\", 86.0, 91.9, 62.16, 2, \"NO\", \"Not placed\"], [82, \"F\", \"B\", 84.84, 91.6, 70.09, 0, \"NO\", \"Placed\"], [83, \"M\", \"B\", 83.66, 90.5, 57.8, 2, \"NO\", \"Placed\"], [84, \"M\", \"B\", 89.0, 88.9, 63.0, 1, \"NO\", \"Not placed\"], [85, \"F\", \"B\", 74.0, 88.4, 76.02, 0, \"NO\", \"Placed\"], [86, \"F\", \"B\", 87.33, 83.8, 69.48, 0, \"NO\", \"Placed\"], [87, \"F\", \"B\", 50.66, 54.2, 60.53, 1, \"NO\", \"Not placed\"], [88, \"M\", \"B\", 82.0, 73.6, 42.0, 11, \"NO\", \"Not placed\"], [89, \"M\", \"B\", 65.3, 77.7, 62.99, 1, \"NO\", \"Not placed\"], [90, \"F\", \"B\", 83.0, 83.0, 62.97, 1, \"NO\", \"Not placed\"], [91, \"M\", \"B\", 60.83, 80.2, 54.0, 5, \"NO\", \"Not placed\"], [92, \"M\", \"B\", 83.16, 79.9, 68.7, 0, \"NO\", \"Not placed\"], [93, \"M\", \"B\", 88.1, 89.1, 61.68, 0, \"yes\", \"Not placed\"], [94, \"M\", \"B\", 72.0, 81.0, 51.0, 10, \"NO\", \"Not placed\"], [95, \"M\", \"B\", 89.33, 88.6, 69.62, 0, \"NO\", \"Placed\"], [96, \"F\", \"B\", 79.33, 61.1, 62.98, 0, \"NO\", \"Not placed\"], [97, \"F\", \"B\", 92.33, 96.9, 88.1, 0, \"yes\", \"Placed\"], [98, \"F\", \"B\", 76.83, 80.4, 72.73, 0, \"yes\", \"Not placed\"], [99, \"F\", \"B\", 88.3, 93.9, 78.6, 0, \"NO\", \"Placed\"], [100, \"F\", \"B\", 82.83, 84.1, 72.57, 0, \"yes\", \"Not placed\"], [101, \"F\", \"B\", 79.83, 64.2, 65.46, 0, \"NO\", \"Not placed\"], [102, \"F\", \"B\", 82.66, 89.6, 83.38, 0, \"NO\", \"Placed\"], [103, \"F\", \"B\", 92.66, 93.7, 76.35, 0, \"NO\", \"Placed\"], [104, \"M\", \"B\", 88.0, 67.9, 53.26, 9, \"NO\", \"Not placed\"], [105, \"F\", \"B\", 68.16, 62.6, 64.63, 0, \"NO\", \"Not placed\"], [106, \"M\", \"B\", 84.1, 73.0, 57.3, 0, \"NO\", \"Not placed\"], [107, \"M\", \"B\", 74.5, 69.6, 56.89, 2, \"NO\", \"Not placed\"], [108, \"M\", \"B\", 83.0, 81.01, 58.0, 1, \"NO\", \"Not placed\"], [109, \"M\", \"B\", 62.0, 70.91, 55.7, 2, \"NO\", \"Not placed\"], [110, \"M\", \"B\", 81.0, 73.0, 42.17, 15, \"NO\", \"Not placed\"], [111, \"M\", \"B\", 82.3, 75.13, 54.16, 2, \"NO\", \"Not placed\"], [112, \"M\", \"B\", 63.66, 69.0, 61.0, 1, \"NO\", \"Not placed\"], [113, \"M\", \"B\", 81.1, 78.6, 35.84, 16, \"NO\", \"Not placed\"], [114, \"M\", \"B\", 81.3, 85.12, 68.5, 0, \"NO\", \"Not placed\"], [115, \"M\", \"B\", 83.5, 89.9, 76.3, 0, \"NO\", \"Not placed\"], [116, \"M\", \"B\", 85.5, 90.63, 74.5, 0, \"NO\", \"Not placed\"], [117, \"M\", \"B\", 80.0, 83.33, 65.53, 0, \"NO\", \"Not placed\"]]}],\n",
              "                        {\"template\": {\"data\": {\"bar\": [{\"error_x\": {\"color\": \"#2a3f5f\"}, \"error_y\": {\"color\": \"#2a3f5f\"}, \"marker\": {\"line\": {\"color\": \"#E5ECF6\", \"width\": 0.5}}, \"type\": \"bar\"}], \"barpolar\": [{\"marker\": {\"line\": {\"color\": \"#E5ECF6\", \"width\": 0.5}}, \"type\": \"barpolar\"}], \"carpet\": [{\"aaxis\": {\"endlinecolor\": \"#2a3f5f\", \"gridcolor\": \"white\", \"linecolor\": \"white\", \"minorgridcolor\": \"white\", \"startlinecolor\": \"#2a3f5f\"}, \"baxis\": {\"endlinecolor\": \"#2a3f5f\", \"gridcolor\": \"white\", \"linecolor\": \"white\", \"minorgridcolor\": \"white\", \"startlinecolor\": \"#2a3f5f\"}, \"type\": \"carpet\"}], \"choropleth\": [{\"colorbar\": {\"outlinewidth\": 0, \"ticks\": \"\"}, \"type\": \"choropleth\"}], \"contour\": [{\"colorbar\": {\"outlinewidth\": 0, \"ticks\": \"\"}, \"colorscale\": [[0.0, \"#0d0887\"], [0.1111111111111111, \"#46039f\"], [0.2222222222222222, \"#7201a8\"], [0.3333333333333333, \"#9c179e\"], [0.4444444444444444, \"#bd3786\"], [0.5555555555555556, \"#d8576b\"], [0.6666666666666666, \"#ed7953\"], [0.7777777777777778, \"#fb9f3a\"], [0.8888888888888888, \"#fdca26\"], [1.0, \"#f0f921\"]], \"type\": \"contour\"}], \"contourcarpet\": [{\"colorbar\": {\"outlinewidth\": 0, \"ticks\": \"\"}, \"type\": \"contourcarpet\"}], \"heatmap\": [{\"colorbar\": {\"outlinewidth\": 0, \"ticks\": \"\"}, \"colorscale\": [[0.0, \"#0d0887\"], [0.1111111111111111, \"#46039f\"], [0.2222222222222222, \"#7201a8\"], [0.3333333333333333, \"#9c179e\"], [0.4444444444444444, \"#bd3786\"], [0.5555555555555556, \"#d8576b\"], [0.6666666666666666, \"#ed7953\"], [0.7777777777777778, \"#fb9f3a\"], [0.8888888888888888, \"#fdca26\"], [1.0, \"#f0f921\"]], \"type\": \"heatmap\"}], \"heatmapgl\": [{\"colorbar\": {\"outlinewidth\": 0, \"ticks\": \"\"}, \"colorscale\": [[0.0, \"#0d0887\"], [0.1111111111111111, \"#46039f\"], [0.2222222222222222, \"#7201a8\"], [0.3333333333333333, \"#9c179e\"], [0.4444444444444444, \"#bd3786\"], [0.5555555555555556, \"#d8576b\"], [0.6666666666666666, \"#ed7953\"], [0.7777777777777778, \"#fb9f3a\"], [0.8888888888888888, \"#fdca26\"], [1.0, \"#f0f921\"]], \"type\": \"heatmapgl\"}], \"histogram\": [{\"marker\": {\"colorbar\": {\"outlinewidth\": 0, \"ticks\": \"\"}}, \"type\": \"histogram\"}], \"histogram2d\": [{\"colorbar\": {\"outlinewidth\": 0, \"ticks\": \"\"}, \"colorscale\": [[0.0, \"#0d0887\"], [0.1111111111111111, \"#46039f\"], [0.2222222222222222, \"#7201a8\"], [0.3333333333333333, \"#9c179e\"], [0.4444444444444444, \"#bd3786\"], [0.5555555555555556, \"#d8576b\"], [0.6666666666666666, \"#ed7953\"], [0.7777777777777778, \"#fb9f3a\"], [0.8888888888888888, \"#fdca26\"], [1.0, \"#f0f921\"]], \"type\": \"histogram2d\"}], \"histogram2dcontour\": [{\"colorbar\": {\"outlinewidth\": 0, \"ticks\": \"\"}, \"colorscale\": [[0.0, \"#0d0887\"], [0.1111111111111111, \"#46039f\"], [0.2222222222222222, \"#7201a8\"], [0.3333333333333333, \"#9c179e\"], [0.4444444444444444, \"#bd3786\"], [0.5555555555555556, \"#d8576b\"], [0.6666666666666666, \"#ed7953\"], [0.7777777777777778, \"#fb9f3a\"], [0.8888888888888888, \"#fdca26\"], [1.0, \"#f0f921\"]], \"type\": \"histogram2dcontour\"}], \"mesh3d\": [{\"colorbar\": {\"outlinewidth\": 0, \"ticks\": \"\"}, \"type\": \"mesh3d\"}], \"parcoords\": [{\"line\": {\"colorbar\": {\"outlinewidth\": 0, \"ticks\": \"\"}}, \"type\": \"parcoords\"}], \"pie\": [{\"automargin\": true, \"type\": \"pie\"}], \"scatter\": [{\"marker\": {\"colorbar\": {\"outlinewidth\": 0, \"ticks\": \"\"}}, \"type\": \"scatter\"}], \"scatter3d\": [{\"line\": {\"colorbar\": {\"outlinewidth\": 0, \"ticks\": \"\"}}, \"marker\": {\"colorbar\": {\"outlinewidth\": 0, \"ticks\": \"\"}}, \"type\": \"scatter3d\"}], \"scattercarpet\": [{\"marker\": {\"colorbar\": {\"outlinewidth\": 0, \"ticks\": \"\"}}, \"type\": \"scattercarpet\"}], \"scattergeo\": [{\"marker\": {\"colorbar\": {\"outlinewidth\": 0, \"ticks\": \"\"}}, \"type\": \"scattergeo\"}], \"scattergl\": [{\"marker\": {\"colorbar\": {\"outlinewidth\": 0, \"ticks\": \"\"}}, \"type\": \"scattergl\"}], \"scattermapbox\": [{\"marker\": {\"colorbar\": {\"outlinewidth\": 0, \"ticks\": \"\"}}, \"type\": \"scattermapbox\"}], \"scatterpolar\": [{\"marker\": {\"colorbar\": {\"outlinewidth\": 0, \"ticks\": \"\"}}, \"type\": \"scatterpolar\"}], \"scatterpolargl\": [{\"marker\": {\"colorbar\": {\"outlinewidth\": 0, \"ticks\": \"\"}}, \"type\": \"scatterpolargl\"}], \"scatterternary\": [{\"marker\": {\"colorbar\": {\"outlinewidth\": 0, \"ticks\": \"\"}}, \"type\": \"scatterternary\"}], \"surface\": [{\"colorbar\": {\"outlinewidth\": 0, \"ticks\": \"\"}, \"colorscale\": [[0.0, \"#0d0887\"], [0.1111111111111111, \"#46039f\"], [0.2222222222222222, \"#7201a8\"], [0.3333333333333333, \"#9c179e\"], [0.4444444444444444, \"#bd3786\"], [0.5555555555555556, \"#d8576b\"], [0.6666666666666666, \"#ed7953\"], [0.7777777777777778, \"#fb9f3a\"], [0.8888888888888888, \"#fdca26\"], [1.0, \"#f0f921\"]], \"type\": \"surface\"}], \"table\": [{\"cells\": {\"fill\": {\"color\": \"#EBF0F8\"}, \"line\": {\"color\": \"white\"}}, \"header\": {\"fill\": {\"color\": \"#C8D4E3\"}, \"line\": {\"color\": \"white\"}}, \"type\": \"table\"}]}, \"layout\": {\"annotationdefaults\": {\"arrowcolor\": \"#2a3f5f\", \"arrowhead\": 0, \"arrowwidth\": 1}, \"coloraxis\": {\"colorbar\": {\"outlinewidth\": 0, \"ticks\": \"\"}}, \"colorscale\": {\"diverging\": [[0, \"#8e0152\"], [0.1, \"#c51b7d\"], [0.2, \"#de77ae\"], [0.3, \"#f1b6da\"], [0.4, \"#fde0ef\"], [0.5, \"#f7f7f7\"], [0.6, \"#e6f5d0\"], [0.7, \"#b8e186\"], [0.8, \"#7fbc41\"], [0.9, \"#4d9221\"], [1, \"#276419\"]], \"sequential\": [[0.0, \"#0d0887\"], [0.1111111111111111, \"#46039f\"], [0.2222222222222222, \"#7201a8\"], [0.3333333333333333, \"#9c179e\"], [0.4444444444444444, \"#bd3786\"], [0.5555555555555556, \"#d8576b\"], [0.6666666666666666, \"#ed7953\"], [0.7777777777777778, \"#fb9f3a\"], [0.8888888888888888, \"#fdca26\"], [1.0, \"#f0f921\"]], \"sequentialminus\": [[0.0, \"#0d0887\"], [0.1111111111111111, \"#46039f\"], [0.2222222222222222, \"#7201a8\"], [0.3333333333333333, \"#9c179e\"], [0.4444444444444444, \"#bd3786\"], [0.5555555555555556, \"#d8576b\"], [0.6666666666666666, \"#ed7953\"], [0.7777777777777778, \"#fb9f3a\"], [0.8888888888888888, \"#fdca26\"], [1.0, \"#f0f921\"]]}, \"colorway\": [\"#636efa\", \"#EF553B\", \"#00cc96\", \"#ab63fa\", \"#FFA15A\", \"#19d3f3\", \"#FF6692\", \"#B6E880\", \"#FF97FF\", \"#FECB52\"], \"font\": {\"color\": \"#2a3f5f\"}, \"geo\": {\"bgcolor\": \"white\", \"lakecolor\": \"white\", \"landcolor\": \"#E5ECF6\", \"showlakes\": true, \"showland\": true, \"subunitcolor\": \"white\"}, \"hoverlabel\": {\"align\": \"left\"}, \"hovermode\": \"closest\", \"mapbox\": {\"style\": \"light\"}, \"paper_bgcolor\": \"white\", \"plot_bgcolor\": \"#E5ECF6\", \"polar\": {\"angularaxis\": {\"gridcolor\": \"white\", \"linecolor\": \"white\", \"ticks\": \"\"}, \"bgcolor\": \"#E5ECF6\", \"radialaxis\": {\"gridcolor\": \"white\", \"linecolor\": \"white\", \"ticks\": \"\"}}, \"scene\": {\"xaxis\": {\"backgroundcolor\": \"#E5ECF6\", \"gridcolor\": \"white\", \"gridwidth\": 2, \"linecolor\": \"white\", \"showbackground\": true, \"ticks\": \"\", \"zerolinecolor\": \"white\"}, \"yaxis\": {\"backgroundcolor\": \"#E5ECF6\", \"gridcolor\": \"white\", \"gridwidth\": 2, \"linecolor\": \"white\", \"showbackground\": true, \"ticks\": \"\", \"zerolinecolor\": \"white\"}, \"zaxis\": {\"backgroundcolor\": \"#E5ECF6\", \"gridcolor\": \"white\", \"gridwidth\": 2, \"linecolor\": \"white\", \"showbackground\": true, \"ticks\": \"\", \"zerolinecolor\": \"white\"}}, \"shapedefaults\": {\"line\": {\"color\": \"#2a3f5f\"}}, \"ternary\": {\"aaxis\": {\"gridcolor\": \"white\", \"linecolor\": \"white\", \"ticks\": \"\"}, \"baxis\": {\"gridcolor\": \"white\", \"linecolor\": \"white\", \"ticks\": \"\"}, \"bgcolor\": \"#E5ECF6\", \"caxis\": {\"gridcolor\": \"white\", \"linecolor\": \"white\", \"ticks\": \"\"}}, \"title\": {\"x\": 0.05}, \"xaxis\": {\"automargin\": true, \"gridcolor\": \"white\", \"linecolor\": \"white\", \"ticks\": \"\", \"title\": {\"standoff\": 15}, \"zerolinecolor\": \"white\", \"zerolinewidth\": 2}, \"yaxis\": {\"automargin\": true, \"gridcolor\": \"white\", \"linecolor\": \"white\", \"ticks\": \"\", \"title\": {\"standoff\": 15}, \"zerolinecolor\": \"white\", \"zerolinewidth\": 2}}}},\n",
              "                        {\"responsive\": true}\n",
              "                    ).then(function(){\n",
              "                            \n",
              "var gd = document.getElementById('b6acf130-e754-4e18-b6f0-b069fadecf75');\n",
              "var x = new MutationObserver(function (mutations, observer) {{\n",
              "        var display = window.getComputedStyle(gd).display;\n",
              "        if (!display || display === 'none') {{\n",
              "            console.log([gd, 'removed!']);\n",
              "            Plotly.purge(gd);\n",
              "            observer.disconnect();\n",
              "        }}\n",
              "}});\n",
              "\n",
              "// Listen for the removal of the full notebook cells\n",
              "var notebookContainer = gd.closest('#notebook-container');\n",
              "if (notebookContainer) {{\n",
              "    x.observe(notebookContainer, {childList: true});\n",
              "}}\n",
              "\n",
              "// Listen for the clearing of the current output cell\n",
              "var outputEl = gd.closest('.output');\n",
              "if (outputEl) {{\n",
              "    x.observe(outputEl, {childList: true});\n",
              "}}\n",
              "\n",
              "                        })\n",
              "                };\n",
              "                \n",
              "            </script>\n",
              "        </div>\n",
              "</body>\n",
              "</html>"
            ]
          },
          "metadata": {
            "tags": []
          }
        }
      ]
    },
    {
      "cell_type": "markdown",
      "metadata": {
        "id": "SPGgormaxuyA",
        "colab_type": "text"
      },
      "source": [
        "**A are performing better on the basis of their B.Tech Percentage**"
      ]
    },
    {
      "cell_type": "code",
      "metadata": {
        "id": "VWFtY-WGxZOB",
        "colab_type": "code",
        "colab": {}
      },
      "source": [
        ""
      ],
      "execution_count": 0,
      "outputs": []
    }
  ]
}